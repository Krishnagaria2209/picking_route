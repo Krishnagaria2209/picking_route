{
 "cells": [
  {
   "cell_type": "code",
   "execution_count": null,
   "id": "e9cb1089",
   "metadata": {},
   "outputs": [],
   "source": [
    "import numpy as np\n",
    "import pandas as pd\n",
    "import itertools\n",
    "from ast import literal_eval\n",
    "\n",
    "\n",
    "def orderlines_mapping(df_orderlines, orders_number):\n",
    "\t'''Mapping orders with wave number'''\n",
    "\tdf_orderlines.sort_values(by='DATE', ascending = True, inplace = True)\n",
    "\t# Unique order numbers list\n",
    "\tlist_orders = df_orderlines.OrderNumber.unique()\n",
    "\tdict_map = dict(zip(list_orders, [i for i in range(1, len(list_orders))]))\n",
    "\t# Order ID mapping\n",
    "\tdf_orderlines['OrderID'] = df_orderlines['OrderNumber'].map(dict_map)\n",
    "\t# Grouping Orders by Wave of orders_number \n",
    "\tdf_orderlines['WaveID'] = (df_orderlines.OrderID%orders_number == 0).shift(1).fillna(0).cumsum()\n",
    "\t# Counting number of Waves\n",
    "\twaves_number = df_orderlines.WaveID.max() + 1\n",
    "\treturn df_orderlines, waves_number\n",
    "\n",
    "def locations_listing(df_orderlines, wave_id):\n",
    "\t'''Getting storage locations to cover for a wave of orders'''\n",
    "\tdf = df_orderlines[df_orderlines.WaveID == wave_id]\n",
    "\t# Create coordinates listing\n",
    "\tlist_locs = list(df['Coord'].apply(lambda t: literal_eval(t)).values)\n",
    "\tlist_locs.sort()\n",
    "\t# List of unique coordinates\n",
    "\tlist_locs = list(k for k,_ in itertools.groupby(list_locs))\n",
    "\tn_locs = len(list_locs)\n",
    "\treturn list_locs, n_locs"
   ]
  }
 ],
 "metadata": {
  "kernelspec": {
   "display_name": "Python 3 (ipykernel)",
   "language": "python",
   "name": "python3"
  },
  "language_info": {
   "codemirror_mode": {
    "name": "ipython",
    "version": 3
   },
   "file_extension": ".py",
   "mimetype": "text/x-python",
   "name": "python",
   "nbconvert_exporter": "python",
   "pygments_lexer": "ipython3",
   "version": "3.9.12"
  }
 },
 "nbformat": 4,
 "nbformat_minor": 5
}
