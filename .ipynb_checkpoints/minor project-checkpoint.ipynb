{
 "cells": [
  {
   "cell_type": "code",
   "execution_count": 7,
   "id": "70d75d71",
   "metadata": {},
   "outputs": [
    {
     "name": "stderr",
     "output_type": "stream",
     "text": [
      "2022-10-12 20:27:44.233 \n",
      "  \u001b[33m\u001b[1mWarning:\u001b[0m to view this Streamlit app on a browser, run it with the following\n",
      "  command:\n",
      "\n",
      "    streamlit run C:\\Users\\ASUS\\anaconda3\\lib\\site-packages\\ipykernel_launcher.py [ARGUMENTS]\n"
     ]
    }
   ],
   "source": [
    "import pandas as pd\n",
    "import numpy as np\n",
    "import plotly.express as px\n",
    "from utils.routing.distances import (\n",
    "\tdistance_picking,\n",
    "\tnext_location\n",
    ")\n",
    "from utils.routing.routes import (\n",
    "\tcreate_picking_route\n",
    "   \n",
    ")\n",
    "from utils.batch.mapping_batch import (\n",
    "\torderlines_mapping,\n",
    "\tlocations_listing\n",
    ")\n",
    "from utils.cluster.mapping_cluster import (\n",
    "\tdf_mapping\n",
    ")\n",
    "from utils.batch.simulation_batch import (\n",
    "\tsimulation_wave,\n",
    "\tsimulate_batch\n",
    ")\n",
    "from utils.cluster.simulation_cluster import(\n",
    "\tloop_wave,\n",
    "\tsimulation_cluster,\n",
    "\tcreate_dataframe,\n",
    "\tprocess_methods\n",
    ")\n",
    "from utils.results.plot import (\n",
    "\tplot_simulation1,\n",
    "\tplot_simulation2\n",
    ")\n",
    "import streamlit as st\n",
    "\n",
    "\n",
    "# Set page configuration\n",
    "st.set_page_config(page_title =\"Improve Warehouse Productivity using Order Batching\",\n",
    "                    initial_sidebar_state=\"expanded\",\n",
    "                    layout='wide',\n",
    "                    page_icon=\"🛒\")\n",
    "\n",
    "# Set up the page\n",
    "@st.cache(persist=False,\n",
    "          allow_output_mutation=True,\n",
    "          suppress_st_warning=True,\n",
    "          show_spinner= True)\n",
    "# Preparation of data\n",
    "def load(filename, n):\n",
    "    df_orderlines = pd.read_csv(IN + filename).head(n)\n",
    "    return df_orderlines\n",
    "\n",
    "\n",
    "# Alley Coordinates on y-axis\n",
    "y_low, y_high = 5.5, 50\n",
    "# Origin Location\n",
    "origin_loc = [0, y_low]\n",
    "# Distance Threshold (m)\t\t\t\n",
    "distance_threshold = 35\t\t\t\n",
    "distance_list = [1] + [i for i in range(5, 100, 5)]\t\t\n",
    "IN = 'static/in/'\n",
    "# Store Results by WaveID\n",
    "list_wid, list_dst, list_route, list_ord, list_lines, list_pcs, list_monomult = [], [], [], [], [], [], []\n",
    "list_results = [list_wid, list_dst, list_route, list_ord, list_lines, list_pcs, list_monomult]\t# Group in list\n",
    "# Store Results by Simulation (Order_number)\n",
    "list_ordnum , list_dstw = [], []\n",
    "\n",
    "# Simulation 1: Order Batch\n",
    "# SCOPE SIZE\n",
    "st.header(\"**🥇 Impact of the wave size in orders (Orders/Wave) **\")\n",
    "st.subheader('''\n",
    "        🛠️ HOW MANY ORDER LINES DO YOU WANT TO INCLUDE IN YOUR ANALYSIS?\n",
    "    ''')\n",
    "col1, col2 = st.beta_columns(2)\n",
    "with col1:\n",
    "\tn = st.slider(\n",
    "\t\t\t\t'SIMULATION 1 SCOPE (THOUSDAND ORDERS)', 1, 200 , value = 5)\n",
    "with col2:\n",
    "\tlines_number = 1000 * n \n",
    "\tst.write('''🛠️{:,} \\\n",
    "\t\torder lines'''.format(lines_number))\n",
    "# SIMULATION PARAMETERS\n",
    "st.subheader('''\n",
    "        🛠️ SIMULATE ORDER PICKING BY WAVE OF N ORDERS PER WAVE WITH N IN [N_MIN, N_MAX] ''')\n",
    "col_11 , col_22 = st.beta_columns(2)\n",
    "with col_11:\n",
    "\tn1 = st.slider(\n",
    "\t\t\t\t'SIMULATION 1: N_MIN (ORDERS/WAVE)', 0, 20 , value = 1)\n",
    "\tn2 = st.slider(\n",
    "\t\t\t\t'SIMULATION 1: N_MAX (ORDERS/WAVE)', n1 + 1, 20 , value = int(np.max([n1+1 , 10])))\n",
    "with col_22:\n",
    "\t\tst.write('''[N_MIN, N_MAX] = [{:,}, {:,}]'''.format(n1, n2))\n",
    "# START CALCULATION\n",
    "start_1= False\n",
    "if st.checkbox('SIMULATION 1: START CALCULATION',key='show', value=False):\n",
    "    start_1 = True\n",
    "# Calculation\n",
    "if start_1:\n",
    "\tdf_orderlines = load('df_lines.csv', lines_number)\n",
    "\tdf_waves, df_results = simulate_batch(n1, n2, y_low, y_high, origin_loc, lines_number, df_orderlines)\n",
    "\tplot_simulation1(df_results, lines_number)\n",
    "\n",
    "# Simulation 2: Order Batch using Spatial Clustering \n",
    "# SCOPE SIZE\n",
    "st.header(\"**🥈 Impact of the order batching method **\")\n",
    "st.subheader('''\n",
    "        🛠️ HOW MANY ORDER LINES DO YOU WANT TO INCLUDE IN YOUR ANALYSIS?\n",
    "    ''')\n",
    "col1, col2 = st.beta_columns(2)\n",
    "with col1:\n",
    "\tn_ = st.slider(\n",
    "\t\t\t\t'SIMULATION 2 SCOPE (THOUSDAND ORDERS)', 1, 200 , value = 5)\n",
    "with col2:\n",
    "\tlines_2 = 1000 * n_ \n",
    "\tst.write('''🛠️{:,} \\\n",
    "\t\torder lines'''.format(lines_2))\n",
    "# START CALCULATION\n",
    "start_2 = False\n",
    "if st.checkbox('SIMULATION 2: START CALCULATION',key='show_2', value=False):\n",
    "    start_2 = True\n",
    "# Calculation\n",
    "if start_2:\n",
    "\tdf_orderlines = load('df_lines.csv', lines_2)\n",
    "\tdf_reswave, df_results = simulation_cluster(y_low, y_high, df_orderlines, list_results, n1, n2, \n",
    "\t\t\tdistance_threshold)\n",
    "\tplot_simulation2(df_reswave, lines_2, distance_threshold)\n",
    "    "
   ]
  },
  {
   "cell_type": "code",
   "execution_count": 3,
   "id": "d5e39cc7",
   "metadata": {},
   "outputs": [
    {
     "name": "stdout",
     "output_type": "stream",
     "text": [
      "Collecting utils\n",
      "  Downloading utils-1.0.1-py2.py3-none-any.whl (21 kB)\n",
      "Installing collected packages: utils\n",
      "Successfully installed utils-1.0.1\n",
      "Note: you may need to restart the kernel to use updated packages.\n"
     ]
    }
   ],
   "source": [
    "pip install utils\n"
   ]
  },
  {
   "cell_type": "code",
   "execution_count": 5,
   "id": "4c18718a",
   "metadata": {},
   "outputs": [
    {
     "name": "stdout",
     "output_type": "stream",
     "text": [
      "Collecting streamlit\n",
      "  Downloading streamlit-1.13.0-py2.py3-none-any.whl (9.2 MB)\n",
      "Collecting pydeck>=0.1.dev5\n",
      "  Downloading pydeck-0.8.0b3-py2.py3-none-any.whl (4.7 MB)\n",
      "Collecting semver\n",
      "  Downloading semver-2.13.0-py2.py3-none-any.whl (12 kB)\n",
      "Requirement already satisfied: packaging>=14.1 in c:\\users\\asus\\anaconda3\\lib\\site-packages (from streamlit) (21.3)\n",
      "Collecting tzlocal>=1.1\n",
      "  Downloading tzlocal-4.2-py3-none-any.whl (19 kB)\n",
      "Requirement already satisfied: toml in c:\\users\\asus\\anaconda3\\lib\\site-packages (from streamlit) (0.10.2)\n",
      "Collecting rich>=10.11.0\n",
      "  Downloading rich-12.6.0-py3-none-any.whl (237 kB)\n",
      "Collecting blinker>=1.0.0\n",
      "  Downloading blinker-1.5-py2.py3-none-any.whl (12 kB)\n",
      "Collecting altair>=3.2.0\n",
      "  Downloading altair-4.2.0-py3-none-any.whl (812 kB)\n",
      "Requirement already satisfied: typing-extensions>=3.10.0.0 in c:\\users\\asus\\anaconda3\\lib\\site-packages (from streamlit) (4.1.1)\n",
      "Requirement already satisfied: python-dateutil in c:\\users\\asus\\anaconda3\\lib\\site-packages (from streamlit) (2.8.2)\n",
      "Collecting pympler>=0.9\n",
      "  Downloading Pympler-1.0.1-py3-none-any.whl (164 kB)\n",
      "Requirement already satisfied: pandas>=0.21.0 in c:\\users\\asus\\anaconda3\\lib\\site-packages (from streamlit) (1.4.2)\n",
      "Requirement already satisfied: click>=7.0 in c:\\users\\asus\\anaconda3\\lib\\site-packages (from streamlit) (8.0.4)\n",
      "Requirement already satisfied: watchdog in c:\\users\\asus\\anaconda3\\lib\\site-packages (from streamlit) (2.1.6)\n",
      "Collecting pyarrow>=4.0\n",
      "  Downloading pyarrow-9.0.0-cp39-cp39-win_amd64.whl (19.6 MB)\n",
      "Requirement already satisfied: requests>=2.4 in c:\\users\\asus\\anaconda3\\lib\\site-packages (from streamlit) (2.27.1)\n",
      "Requirement already satisfied: numpy in c:\\users\\asus\\anaconda3\\lib\\site-packages (from streamlit) (1.21.5)\n",
      "Requirement already satisfied: cachetools>=4.0 in c:\\users\\asus\\anaconda3\\lib\\site-packages (from streamlit) (4.2.2)\n",
      "Collecting validators>=0.2\n",
      "  Downloading validators-0.20.0.tar.gz (30 kB)\n",
      "Requirement already satisfied: importlib-metadata>=1.4 in c:\\users\\asus\\anaconda3\\lib\\site-packages (from streamlit) (4.11.3)\n",
      "Requirement already satisfied: protobuf!=3.20.2,<4,>=3.12 in c:\\users\\asus\\anaconda3\\lib\\site-packages (from streamlit) (3.19.1)\n",
      "Requirement already satisfied: tornado>=5.0 in c:\\users\\asus\\anaconda3\\lib\\site-packages (from streamlit) (6.1)\n",
      "Collecting gitpython!=3.1.19\n",
      "  Downloading GitPython-3.1.29-py3-none-any.whl (182 kB)\n",
      "Requirement already satisfied: pillow>=6.2.0 in c:\\users\\asus\\anaconda3\\lib\\site-packages (from streamlit) (9.0.1)\n",
      "Requirement already satisfied: toolz in c:\\users\\asus\\anaconda3\\lib\\site-packages (from altair>=3.2.0->streamlit) (0.11.2)\n",
      "Requirement already satisfied: entrypoints in c:\\users\\asus\\anaconda3\\lib\\site-packages (from altair>=3.2.0->streamlit) (0.4)\n",
      "Requirement already satisfied: jinja2 in c:\\users\\asus\\anaconda3\\lib\\site-packages (from altair>=3.2.0->streamlit) (2.11.3)\n",
      "Requirement already satisfied: jsonschema>=3.0 in c:\\users\\asus\\anaconda3\\lib\\site-packages (from altair>=3.2.0->streamlit) (4.4.0)\n",
      "Requirement already satisfied: colorama in c:\\users\\asus\\anaconda3\\lib\\site-packages (from click>=7.0->streamlit) (0.4.4)\n",
      "Collecting gitdb<5,>=4.0.1\n",
      "  Downloading gitdb-4.0.9-py3-none-any.whl (63 kB)\n",
      "Collecting smmap<6,>=3.0.1\n",
      "  Downloading smmap-5.0.0-py3-none-any.whl (24 kB)\n",
      "Requirement already satisfied: zipp>=0.5 in c:\\users\\asus\\anaconda3\\lib\\site-packages (from importlib-metadata>=1.4->streamlit) (3.7.0)\n",
      "Requirement already satisfied: pyrsistent!=0.17.0,!=0.17.1,!=0.17.2,>=0.14.0 in c:\\users\\asus\\anaconda3\\lib\\site-packages (from jsonschema>=3.0->altair>=3.2.0->streamlit) (0.18.0)\n",
      "Requirement already satisfied: attrs>=17.4.0 in c:\\users\\asus\\anaconda3\\lib\\site-packages (from jsonschema>=3.0->altair>=3.2.0->streamlit) (21.4.0)\n",
      "Requirement already satisfied: pyparsing!=3.0.5,>=2.0.2 in c:\\users\\asus\\anaconda3\\lib\\site-packages (from packaging>=14.1->streamlit) (3.0.4)\n",
      "Requirement already satisfied: pytz>=2020.1 in c:\\users\\asus\\anaconda3\\lib\\site-packages (from pandas>=0.21.0->streamlit) (2021.3)\n",
      "Requirement already satisfied: MarkupSafe>=0.23 in c:\\users\\asus\\anaconda3\\lib\\site-packages (from jinja2->altair>=3.2.0->streamlit) (2.0.1)\n",
      "Requirement already satisfied: six>=1.5 in c:\\users\\asus\\anaconda3\\lib\\site-packages (from python-dateutil->streamlit) (1.16.0)\n",
      "Requirement already satisfied: charset-normalizer~=2.0.0 in c:\\users\\asus\\anaconda3\\lib\\site-packages (from requests>=2.4->streamlit) (2.0.4)\n",
      "Requirement already satisfied: idna<4,>=2.5 in c:\\users\\asus\\anaconda3\\lib\\site-packages (from requests>=2.4->streamlit) (3.3)\n",
      "Requirement already satisfied: certifi>=2017.4.17 in c:\\users\\asus\\anaconda3\\lib\\site-packages (from requests>=2.4->streamlit) (2021.10.8)\n",
      "Requirement already satisfied: urllib3<1.27,>=1.21.1 in c:\\users\\asus\\anaconda3\\lib\\site-packages (from requests>=2.4->streamlit) (1.26.9)\n",
      "Requirement already satisfied: pygments<3.0.0,>=2.6.0 in c:\\users\\asus\\anaconda3\\lib\\site-packages (from rich>=10.11.0->streamlit) (2.11.2)\n",
      "Collecting commonmark<0.10.0,>=0.9.0\n",
      "  Downloading commonmark-0.9.1-py2.py3-none-any.whl (51 kB)\n",
      "Collecting tzdata\n",
      "  Downloading tzdata-2022.4-py2.py3-none-any.whl (336 kB)\n",
      "Collecting pytz-deprecation-shim\n",
      "  Downloading pytz_deprecation_shim-0.1.0.post0-py2.py3-none-any.whl (15 kB)\n",
      "Requirement already satisfied: decorator>=3.4.0 in c:\\users\\asus\\anaconda3\\lib\\site-packages (from validators>=0.2->streamlit) (5.1.1)\n",
      "Building wheels for collected packages: validators\n",
      "  Building wheel for validators (setup.py): started\n",
      "  Building wheel for validators (setup.py): finished with status 'done'\n",
      "  Created wheel for validators: filename=validators-0.20.0-py3-none-any.whl size=19582 sha256=89aaf50adedb1aff3aac8439d200eca67f819a6405733e411800db22a41fc0f6\n",
      "  Stored in directory: c:\\users\\asus\\appdata\\local\\pip\\cache\\wheels\\2d\\f0\\a8\\1094fca7a7e5d0d12ff56e0c64675d72aa5cc81a5fc200e849\n",
      "Successfully built validators\n",
      "Installing collected packages: tzdata, smmap, pytz-deprecation-shim, gitdb, commonmark, validators, tzlocal, semver, rich, pympler, pydeck, pyarrow, gitpython, blinker, altair, streamlit\n",
      "Successfully installed altair-4.2.0 blinker-1.5 commonmark-0.9.1 gitdb-4.0.9 gitpython-3.1.29 pyarrow-9.0.0 pydeck-0.8.0b3 pympler-1.0.1 pytz-deprecation-shim-0.1.0.post0 rich-12.6.0 semver-2.13.0 smmap-5.0.0 streamlit-1.13.0 tzdata-2022.4 tzlocal-4.2 validators-0.20.0\n",
      "Note: you may need to restart the kernel to use updated packages.\n"
     ]
    }
   ],
   "source": [
    "pip install streamlit"
   ]
  },
  {
   "cell_type": "code",
   "execution_count": 8,
   "id": "d926df7c",
   "metadata": {},
   "outputs": [
    {
     "ename": "SyntaxError",
     "evalue": "invalid syntax (1918535258.py, line 1)",
     "output_type": "error",
     "traceback": [
      "\u001b[1;36m  Input \u001b[1;32mIn [8]\u001b[1;36m\u001b[0m\n\u001b[1;33m    stream run app.py\u001b[0m\n\u001b[1;37m           ^\u001b[0m\n\u001b[1;31mSyntaxError\u001b[0m\u001b[1;31m:\u001b[0m invalid syntax\n"
     ]
    }
   ],
   "source": [
    "stream run app.py"
   ]
  },
  {
   "cell_type": "code",
   "execution_count": 11,
   "id": "02f3f6c5",
   "metadata": {},
   "outputs": [
    {
     "ename": "SyntaxError",
     "evalue": "invalid syntax (140705194.py, line 1)",
     "output_type": "error",
     "traceback": [
      "\u001b[1;36m  Input \u001b[1;32mIn [11]\u001b[1;36m\u001b[0m\n\u001b[1;33m    streamlit run C:\\Users\\ASUS\\anaconda3\\lib\\site-packages\\ipykernel_launcher.py.py\u001b[0m\n\u001b[1;37m              ^\u001b[0m\n\u001b[1;31mSyntaxError\u001b[0m\u001b[1;31m:\u001b[0m invalid syntax\n"
     ]
    }
   ],
   "source": [
    "streamlit run C:\\Users\\ASUS\\anaconda3\\lib\\site-packages\\ipykernel_launcher.py.py"
   ]
  },
  {
   "cell_type": "code",
   "execution_count": 12,
   "id": "97ada770",
   "metadata": {},
   "outputs": [
    {
     "ename": "SyntaxError",
     "evalue": "invalid syntax (1465090008.py, line 1)",
     "output_type": "error",
     "traceback": [
      "\u001b[1;36m  Input \u001b[1;32mIn [12]\u001b[1;36m\u001b[0m\n\u001b[1;33m    streamlit run main.py\u001b[0m\n\u001b[1;37m              ^\u001b[0m\n\u001b[1;31mSyntaxError\u001b[0m\u001b[1;31m:\u001b[0m invalid syntax\n"
     ]
    }
   ],
   "source": [
    "streamlit run main.py"
   ]
  },
  {
   "cell_type": "code",
   "execution_count": 13,
   "id": "e9ae645a",
   "metadata": {},
   "outputs": [
    {
     "ename": "SyntaxError",
     "evalue": "invalid syntax (1465090008.py, line 1)",
     "output_type": "error",
     "traceback": [
      "\u001b[1;36m  Input \u001b[1;32mIn [13]\u001b[1;36m\u001b[0m\n\u001b[1;33m    streamlit run main.py\u001b[0m\n\u001b[1;37m              ^\u001b[0m\n\u001b[1;31mSyntaxError\u001b[0m\u001b[1;31m:\u001b[0m invalid syntax\n"
     ]
    }
   ],
   "source": [
    "streamlit run main.py"
   ]
  },
  {
   "cell_type": "code",
   "execution_count": 14,
   "id": "1481ec44",
   "metadata": {},
   "outputs": [
    {
     "ename": "SyntaxError",
     "evalue": "invalid syntax (3737097518.py, line 1)",
     "output_type": "error",
     "traceback": [
      "\u001b[1;36m  Input \u001b[1;32mIn [14]\u001b[1;36m\u001b[0m\n\u001b[1;33m    streamlit run app.py\u001b[0m\n\u001b[1;37m              ^\u001b[0m\n\u001b[1;31mSyntaxError\u001b[0m\u001b[1;31m:\u001b[0m invalid syntax\n"
     ]
    }
   ],
   "source": [
    "streamlit run app.py"
   ]
  },
  {
   "cell_type": "code",
   "execution_count": null,
   "id": "b712682d",
   "metadata": {},
   "outputs": [],
   "source": []
  }
 ],
 "metadata": {
  "kernelspec": {
   "display_name": "Python 3 (ipykernel)",
   "language": "python",
   "name": "python3"
  },
  "language_info": {
   "codemirror_mode": {
    "name": "ipython",
    "version": 3
   },
   "file_extension": ".py",
   "mimetype": "text/x-python",
   "name": "python",
   "nbconvert_exporter": "python",
   "pygments_lexer": "ipython3",
   "version": "3.9.12"
  }
 },
 "nbformat": 4,
 "nbformat_minor": 5
}
